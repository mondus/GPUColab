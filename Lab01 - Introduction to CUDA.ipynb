{
  "nbformat": 4,
  "nbformat_minor": 0,
  "metadata": {
    "colab": {
      "name": "VSCode.ipynb",
      "private_outputs": true,
      "provenance": [],
      "collapsed_sections": [],
      "authorship_tag": "ABX9TyPoPchTUG+kFSfjpskqE3TN"
    },
    "kernelspec": {
      "name": "python3",
      "display_name": "Python 3"
    },
    "language_info": {
      "name": "python"
    },
    "accelerator": "GPU"
  },
  "cells": [
    {
      "cell_type": "code",
      "metadata": {
        "id": "461v3KCnfMGH"
      },
      "source": [
        "# generate a password for auth\n",
        "from random import choice; \n",
        "import os\n",
        "password = ''.join([choice('abcdefghijklmnopqrstuvwxyz0123456789') for i in range(10)])\n",
        "os.environ['PASSWORD'] = password\n",
        "# get the installation script from github\n",
        "!rm -rf GPUColab\n",
        "!git clone https://github.com/mondus/GPUColab.git &> /dev/null\n",
        "# run the installation script\n",
        "!sudo chmod a+x GPUColab/setup_vscode.sh\n",
        "!GPUColab/setup_vscode.sh &> /dev/null\n",
        "# Setup ngrok ssl tunnel\n",
        "from pyngrok import ngrok\n",
        "url = ngrok.connect(9000, bind_tls=True)\n",
        "# Render a link to the visual studio code web server\n",
        "from IPython.display import HTML\n",
        "HTML(f\"<h3>Visual Studio Code can now be used in your browser at the following <a href='{url.public_url}' target='_blank'>link</a> with the password '{password}'<h3>\")"
      ],
      "execution_count": null,
      "outputs": []
    },
    {
      "cell_type": "code",
      "metadata": {
        "id": "-GIOBcd9w4WE"
      },
      "source": [
        ""
      ],
      "execution_count": null,
      "outputs": []
    }
  ]
}